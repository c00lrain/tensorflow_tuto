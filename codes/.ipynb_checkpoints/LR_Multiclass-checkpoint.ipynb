{
 "cells": [
  {
   "cell_type": "code",
   "execution_count": 1,
   "metadata": {
    "collapsed": false
   },
   "outputs": [
    {
     "name": "stdout",
     "output_type": "stream",
     "text": [
      "Populating the interactive namespace from numpy and matplotlib\n"
     ]
    }
   ],
   "source": [
    "import tensorflow as tf\n",
    "import numpy as np\n",
    "import matplotlib.pyplot as plt\n",
    "\n",
    "%pylab inline"
   ]
  },
  {
   "cell_type": "code",
   "execution_count": 2,
   "metadata": {
    "collapsed": false
   },
   "outputs": [],
   "source": [
    "n_data_per_class = 50\n",
    "num_class = 4\n",
    "dim_data = 2\n",
    "n_data = n_data_per_class * num_class\n",
    "\n",
    "data1 = np.random.multivariate_normal([4,0], [[1,0],[0,1]], n_data_per_class).astype(np.float32)\n",
    "data2 = np.random.multivariate_normal([0,4], [[1,0],[0,1]], n_data_per_class).astype(np.float32)\n",
    "data3 = np.random.multivariate_normal([12,0], [[1,0],[0,1]], n_data_per_class).astype(np.float32)\n",
    "data4 = np.random.multivariate_normal([8,4], [[1,0],[0,1]], n_data_per_class).astype(np.float32)\n",
    "data_x = np.vstack([data1,data2,data3,data4])\n",
    "\n",
    "\n",
    "data_y = np.zeros([n_data, num_class])\n",
    "for i in range(num_class):\n",
    "    s_idx = i*n_data_per_class\n",
    "    e_idx = s_idx + n_data_per_class\n",
    "    data_y[s_idx:e_idx,i] = 1\n"
   ]
  },
  {
   "cell_type": "code",
   "execution_count": 3,
   "metadata": {
    "collapsed": false
   },
   "outputs": [
    {
     "name": "stderr",
     "output_type": "stream",
     "text": [
      "/usr/local/lib/python2.7/dist-packages/matplotlib/collections.py:590: FutureWarning: elementwise comparison failed; returning scalar instead, but in the future will perform elementwise comparison\n",
      "  if self._edgecolors == str('face'):\n"
     ]
    },
    {
     "data": {
      "image/png": "[encoded data removed]",
      "text/plain": [
       "<matplotlib.figure.Figure at 0x7f6472cce9d0>"
      ]
     },
     "metadata": {},
     "output_type": "display_data"
    }
   ],
   "source": [
    "def draw_state():\n",
    "    plt.rcParams['figure.figsize']=(5,5)\n",
    "    plt.scatter(data1[:,0],data1[:,1],30,'r')\n",
    "    plt.scatter(data2[:,0],data2[:,1],30,'b')\n",
    "    plt.scatter(data3[:,0],data1[:,1],30,'g')\n",
    "    plt.scatter(data4[:,0],data2[:,1],30,'k')\n",
    "\n",
    "    [x1min,x1max,x2min,x2max] = plt.axis()\n",
    "    x1val = np.arange(x1min,x1max,0.1)\n",
    "    #wval = w.get_value(borrow=True)\n",
    "    #bval = b.get_value(borrow=True)\n",
    "    #plt.plot(x1val, -(wval[0]*x1val+bval)/wval[1], 'k')\n",
    "    plt.axis([x1min,x1max,x2min,x2max])\n",
    "    plt.show()\n",
    "    \n",
    "draw_state()"
   ]
  },
  {
   "cell_type": "code",
   "execution_count": 4,
   "metadata": {
    "collapsed": false
   },
   "outputs": [],
   "source": [
    "# Create the model\n",
    "\n",
    "x = tf.placeholder(tf.float32, [None, dim_data])\n",
    "W = tf.Variable(tf.zeros([dim_data, num_class]))\n",
    "b = tf.Variable(tf.zeros([num_class]))\n",
    "y = tf.matmul(x, W) + b\n",
    "\n",
    "  # Define loss and optimizer\n",
    "y_ = tf.placeholder(tf.float32, [None, num_class])"
   ]
  },
  {
   "cell_type": "code",
   "execution_count": 5,
   "metadata": {
    "collapsed": false
   },
   "outputs": [],
   "source": [
    "cross_entropy = tf.reduce_mean(tf.nn.softmax_cross_entropy_with_logits(y, y_))\n",
    "train_step = tf.train.GradientDescentOptimizer(0.5).minimize(cross_entropy)"
   ]
  },
  {
   "cell_type": "code",
   "execution_count": 6,
   "metadata": {
    "collapsed": false
   },
   "outputs": [],
   "source": [
    "config = tf.ConfigProto()\n",
    "config.gpu_options.allow_growth=True\n",
    "sess = tf.Session(config=config)\n",
    "sess.run(tf.initialize_all_variables())\n"
   ]
  },
  {
   "cell_type": "code",
   "execution_count": 7,
   "metadata": {
    "collapsed": true
   },
   "outputs": [],
   "source": [
    "batch_size_per_class = 40"
   ]
  },
  {
   "cell_type": "code",
   "execution_count": 8,
   "metadata": {
    "collapsed": false
   },
   "outputs": [],
   "source": [
    "# Train\n",
    "for i in range(1000):\n",
    "    idx = [i * 4 for i in range(batch_size_per_class)]\n",
    "    batch_xs = data_x[idx, :]\n",
    "    batch_ys = data_y[idx, :]\n",
    "    result = sess.run(train_step, feed_dict={x: batch_xs, y_: batch_ys})\n",
    "\n"
   ]
  },
  {
   "cell_type": "code",
   "execution_count": 9,
   "metadata": {
    "collapsed": false
   },
   "outputs": [
    {
     "name": "stdout",
     "output_type": "stream",
     "text": [
      "0.97\n"
     ]
    }
   ],
   "source": [
    "# Test trained model\n",
    "correct_prediction = tf.equal(tf.argmax(y, 1), tf.argmax(y_, 1))\n",
    "accuracy = tf.reduce_mean(tf.cast(correct_prediction, tf.float32))\n",
    "print(sess.run(accuracy, feed_dict={x: data_x,\n",
    "                                      y_: data_y}))"
   ]
  },
  {
   "cell_type": "code",
   "execution_count": null,
   "metadata": {
    "collapsed": true
   },
   "outputs": [],
   "source": []
  },
  {
   "cell_type": "code",
   "execution_count": null,
   "metadata": {
    "collapsed": true
   },
   "outputs": [],
   "source": []
  },
  {
   "cell_type": "code",
   "execution_count": null,
   "metadata": {
    "collapsed": true
   },
   "outputs": [],
   "source": []
  }
 ],
 "metadata": {
  "kernelspec": {
   "display_name": "Python 2",
   "language": "python",
   "name": "python2"
  },
  "language_info": {
   "codemirror_mode": {
    "name": "ipython",
    "version": 2
   },
   "file_extension": ".py",
   "mimetype": "text/x-python",
   "name": "python",
   "nbconvert_exporter": "python",
   "pygments_lexer": "ipython2",
   "version": "2.7.6"
  }
 },
 "nbformat": 4,
 "nbformat_minor": 0
}
