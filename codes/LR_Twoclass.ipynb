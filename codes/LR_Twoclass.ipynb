{
 "cells": [
  {
   "cell_type": "code",
   "execution_count": 1,
   "metadata": {
    "collapsed": false
   },
   "outputs": [
    {
     "name": "stdout",
     "output_type": "stream",
     "text": [
      "Populating the interactive namespace from numpy and matplotlib\n"
     ]
    }
   ],
   "source": [
    "import tensorflow as tf\n",
    "import numpy as np\n",
    "import matplotlib.pyplot as plt\n",
    "\n",
    "%pylab inline"
   ]
  },
  {
   "cell_type": "markdown",
   "metadata": {},
   "source": [
    "##Generate Data"
   ]
  },
  {
   "cell_type": "code",
   "execution_count": 2,
   "metadata": {
    "collapsed": false
   },
   "outputs": [],
   "source": [
    "n_data_per_class = 50\n",
    "num_class = 2\n",
    "dim_data = 2\n",
    "n_data = n_data_per_class * num_class\n",
    "n_train = 50\n",
    "\n",
    "data1 = np.random.multivariate_normal([4,0], [[1,0],[0,1]], n_data_per_class).astype(np.float32)\n",
    "data2 = np.random.multivariate_normal([0,4], [[1,0],[0,1]], n_data_per_class).astype(np.float32)\n",
    "data_x = np.vstack([data1,data2])\n",
    "data_y = np.hstack([np.ones((n_data_per_class,)), -np.ones((n_data_per_class,))])\n"
   ]
  },
  {
   "cell_type": "markdown",
   "metadata": {},
   "source": [
    "##Data Visualization"
   ]
  },
  {
   "cell_type": "code",
   "execution_count": 3,
   "metadata": {
    "collapsed": false
   },
   "outputs": [
    {
     "data": {
      "image/png": "[encoded data removed]",
      "text/plain": [
       "<matplotlib.figure.Figure at 0x7f15f80430d0>"
      ]
     },
     "metadata": {},
     "output_type": "display_data"
    }
   ],
   "source": [
    "\n",
    "plt.rcParams['figure.figsize']=(5,5)\n",
    "plt.scatter(data1[:,0],data1[:,1],30,'r')\n",
    "plt.scatter(data2[:,0],data2[:,1],30,'b')\n",
    "[x1min,x1max,x2min,x2max] = plt.axis()\n",
    "x1val = np.arange(x1min,x1max,0.1)\n",
    "plt.axis([x1min,x1max,x2min,x2max])\n",
    "plt.show()\n",
    "    "
   ]
  },
  {
   "cell_type": "markdown",
   "metadata": {
    "collapsed": true
   },
   "source": [
    "# logistic regression model\n"
   ]
  },
  {
   "cell_type": "markdown",
   "metadata": {},
   "source": [
    "###$$P(y_i|x_i;w,b) = \\frac{1}{1+exp(-(wx_i+b)y_i)}$$\n",
    "###$$\\mathcal{L}(w,b) = -\\frac{1}{n}\\sum_{i=1}^n log(P(y_i|x_i;w,b))$$###"
   ]
  },
  {
   "cell_type": "code",
   "execution_count": 4,
   "metadata": {
    "collapsed": false
   },
   "outputs": [],
   "source": [
    "# Create the model\n",
    "\n",
    "x = tf.placeholder(tf.float32, [None, dim_data])\n",
    "W = tf.Variable(tf.zeros([dim_data,1]))\n",
    "b = tf.Variable(tf.zeros([1]))\n",
    "y_true = tf.placeholder(tf.float32, [None])"
   ]
  },
  {
   "cell_type": "code",
   "execution_count": 5,
   "metadata": {
    "collapsed": false
   },
   "outputs": [],
   "source": [
    "a = tf.matmul(x, W) + b\n",
    "p_y = tf.sigmoid(tf.mul(a ,tf.reshape(y_true, [-1,1]) ))"
   ]
  },
  {
   "cell_type": "code",
   "execution_count": 6,
   "metadata": {
    "collapsed": false
   },
   "outputs": [],
   "source": [
    "loss = tf.reduce_mean(-tf.log(p_y))"
   ]
  },
  {
   "cell_type": "code",
   "execution_count": 7,
   "metadata": {
    "collapsed": true
   },
   "outputs": [],
   "source": [
    "train_step = tf.train.GradientDescentOptimizer(0.5).minimize(loss)"
   ]
  },
  {
   "cell_type": "code",
   "execution_count": 8,
   "metadata": {
    "collapsed": false
   },
   "outputs": [],
   "source": [
    "config = tf.ConfigProto()\n",
    "config.gpu_options.allow_growth=True\n",
    "sess = tf.Session(config=config)\n",
    "sess.run(tf.initialize_all_variables())\n"
   ]
  },
  {
   "cell_type": "code",
   "execution_count": 9,
   "metadata": {
    "collapsed": false,
    "scrolled": true
   },
   "outputs": [
    {
     "data": {
      "text/plain": [
       "[<matplotlib.lines.Line2D at 0x7f15f000f590>]"
      ]
     },
     "execution_count": 9,
     "metadata": {},
     "output_type": "execute_result"
    },
    {
     "data": {
      "image/png": "[encoded data removed]",
      "text/plain": [
       "<matplotlib.figure.Figure at 0x7f15f80301d0>"
      ]
     },
     "metadata": {},
     "output_type": "display_data"
    }
   ],
   "source": [
    "# Train    \n",
    "idx =[2*i for i in range(50)]\n",
    "\n",
    "loss_history = []\n",
    "for i in range(200):\n",
    "    train_x = data_x[idx]\n",
    "    train_y = data_y[idx]\n",
    "    sess.run(train_step, feed_dict={x: train_x, y_true: train_y})\n",
    "    loss_history.append( sess.run(loss, feed_dict={x: train_x, y_true: train_y}) )\n",
    "    #print sess.run( p_y, feed_dict={x: train_x, y_true: train_y})\n",
    "    #print sess.run(W), sess.run(b)\n",
    "    \n",
    "\n",
    "\n",
    "plt.plot(loss_history)"
   ]
  },
  {
   "cell_type": "code",
   "execution_count": 10,
   "metadata": {
    "collapsed": false
   },
   "outputs": [
    {
     "ename": "NameError",
     "evalue": "name 'result' is not defined",
     "output_type": "error",
     "traceback": [
      "\u001b[1;31m---------------------------------------------------------------------------\u001b[0m",
      "\u001b[1;31mNameError\u001b[0m                                 Traceback (most recent call last)",
      "\u001b[1;32m<ipython-input-10-a5b1e83cd027>\u001b[0m in \u001b[0;36m<module>\u001b[1;34m()\u001b[0m\n\u001b[1;32m----> 1\u001b[1;33m \u001b[0mresult\u001b[0m\u001b[1;33m\u001b[0m\u001b[0m\n\u001b[0m",
      "\u001b[1;31mNameError\u001b[0m: name 'result' is not defined"
     ]
    }
   ],
   "source": [
    "result"
   ]
  },
  {
   "cell_type": "code",
   "execution_count": 13,
   "metadata": {
    "collapsed": false
   },
   "outputs": [
    {
     "name": "stdout",
     "output_type": "stream",
     "text": [
      "[[ 1.96814668]\n",
      " [-1.99605405]] [-0.04337417]\n"
     ]
    },
    {
     "data": {
      "image/png": "[encoded data removed]",
      "text/plain": [
       "<matplotlib.figure.Figure at 0x7fc9b827ce90>"
      ]
     },
     "metadata": {},
     "output_type": "display_data"
    }
   ],
   "source": [
    "plt.rcParams['figure.figsize']=(5,5)\n",
    "plt.scatter(data1[:,0],data1[:,1],30,'r')\n",
    "plt.scatter(data2[:,0],data2[:,1],30,'b')\n",
    "[x1min,x1max,x2min,x2max] = plt.axis()\n",
    "x1val = np.arange(x1min,x1max,0.1)\n",
    "wval = sess.run(W) # 2 by 1   \n",
    "bval = sess.run(b) # 1\n",
    "print wval, bval\n",
    "plt.plot(x1val, -(wval[0]*x1val+bval)/wval[1], 'k')\n",
    "plt.axis([x1min,x1max,x2min,x2max])\n",
    "plt.show()"
   ]
  },
  {
   "cell_type": "code",
   "execution_count": null,
   "metadata": {
    "collapsed": true
   },
   "outputs": [],
   "source": []
  }
 ],
 "metadata": {
  "kernelspec": {
   "display_name": "Python 2",
   "language": "python",
   "name": "python2"
  },
  "language_info": {
   "codemirror_mode": {
    "name": "ipython",
    "version": 2
   },
   "file_extension": ".py",
   "mimetype": "text/x-python",
   "name": "python",
   "nbconvert_exporter": "python",
   "pygments_lexer": "ipython2",
   "version": "2.7.6"
  }
 },
 "nbformat": 4,
 "nbformat_minor": 0
}
