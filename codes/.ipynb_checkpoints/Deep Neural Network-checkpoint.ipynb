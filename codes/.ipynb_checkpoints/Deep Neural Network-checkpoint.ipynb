{
 "cells": [
  {
   "cell_type": "code",
   "execution_count": 13,
   "metadata": {
    "collapsed": false
   },
   "outputs": [
    {
     "name": "stdout",
     "output_type": "stream",
     "text": [
      "Populating the interactive namespace from numpy and matplotlib\n"
     ]
    }
   ],
   "source": [
    "import tensorflow as tf\n",
    "import numpy as np\n",
    "import matplotlib.pyplot as plt\n",
    "%pylab inline"
   ]
  },
  {
   "cell_type": "markdown",
   "metadata": {},
   "source": [
    "# Deep Neural Network (DNN)\n",
    "\n",
    "\n",
    "![dnn](http://ufldl.stanford.edu/tutorial/images/Network3322.png)\n",
    "\n",
    "\n",
    "* **neuron** is a unit that takes input vector and outputs a single value.\n",
    "* **layer** is a set of neurons with the same input vector.\n",
    "* **NN** is a set of layers that are serially connected.\n",
    "\n",
    "## Neuron\n",
    "![neuron](https://www.dropbox.com/s/b6juegvqmaul9zm/Neuron.png?dl=0&raw=1)\n",
    "* A neuron defines a hyperplane and computes the distance from the hyperplane\n",
    "* The distance is non-linearly transformed.\n",
    "\n",
    "## Layer\n",
    "* just a **linear (affine) map + coordinate-wise non-linear transform**\n",
    "![nonlinear](https://upload.wikimedia.org/wikipedia/en/thumb/9/96/Jacobian_determinant_and_distortion.svg/1280px-Jacobian_determinant_and_distortion.svg.png)"
   ]
  },
  {
   "cell_type": "markdown",
   "metadata": {
    "collapsed": false
   },
   "source": [
    "## Implementation\n",
    "\n",
    "Now let's implement NN in `tensorflow`!\n",
    "\n",
    "### Layer\n",
    "$$ h = \\sigma (xw + b)$$\n",
    "where\n",
    "$ x \\in \\mathbb{R}^{n \\times d}$,\n",
    "$ w \\in \\mathbb{R}^{d \\times h}$,\n",
    "$ b \\in \\mathbb{R}^{h}$,\n",
    "$ h \\in \\mathbb{R}^{n \\times h}$ \n",
    "and $\\sigma(\\cdot)$ is a non-linear activation function.\n",
    "\n",
    "Let us define the tensors."
   ]
  },
  {
   "cell_type": "code",
   "execution_count": 14,
   "metadata": {
    "collapsed": false
   },
   "outputs": [],
   "source": [
    "tf.reset_default_graph()\n",
    "\n",
    "x = tf.placeholder('float32', name='x')\n",
    "\n",
    "initial_w = tf.truncated_normal(\n",
    "                shape=(784, 50),\n",
    "                mean=0.0, stddev=0.05 )\n",
    "w = tf.Variable(initial_w, name='w')\n",
    "b = tf.Variable(tf.zeros(shape=(50,)), name='b')\n",
    "\n",
    "p = tf.matmul(x, w) + b\n",
    "h = tf.sigmoid(p)"
   ]
  },
  {
   "cell_type": "code",
   "execution_count": 15,
   "metadata": {
    "collapsed": false
   },
   "outputs": [
    {
     "name": "stdout",
     "output_type": "stream",
     "text": [
      "Tensor(\"x:0\", dtype=float32)\n",
      "<tensorflow.python.ops.variables.Variable object at 0x7f08fa1dbf90>\n",
      "<tensorflow.python.ops.variables.Variable object at 0x7f08fa1dbf50>\n",
      "Tensor(\"add:0\", shape=(?, 50), dtype=float32)\n",
      "Tensor(\"Sigmoid:0\", shape=(?, 50), dtype=float32)\n"
     ]
    }
   ],
   "source": [
    "print x\n",
    "print w\n",
    "print b\n",
    "print p\n",
    "print h"
   ]
  },
  {
   "cell_type": "markdown",
   "metadata": {},
   "source": [
    "Now, let's evaluate"
   ]
  },
  {
   "cell_type": "code",
   "execution_count": 16,
   "metadata": {
    "collapsed": false
   },
   "outputs": [
    {
     "name": "stdout",
     "output_type": "stream",
     "text": [
      "w: \n",
      "[[ 0.01170039  0.03081924 -0.03341355 ..., -0.05013648  0.06999285\n",
      "  -0.02501209]\n",
      " [ 0.09782187 -0.05770919  0.05078177 ...,  0.04800818 -0.02364256\n",
      "   0.04929907]\n",
      " [-0.0192522  -0.0016696  -0.00286393 ...,  0.03492413  0.00486213\n",
      "   0.02429403]\n",
      " ..., \n",
      " [ 0.04579539  0.07084817  0.02263879 ..., -0.03819674 -0.01520984\n",
      "   0.00336086]\n",
      " [ 0.03129913  0.00667761 -0.00481091 ..., -0.0376614   0.09721918\n",
      "   0.03021369]\n",
      " [ 0.06360533  0.04421287  0.04556337 ...,  0.03088005  0.01524972\n",
      "   0.00981149]]\n",
      "b: \n",
      "[ 0.  0.  0.  0.  0.  0.  0.  0.  0.  0.  0.  0.  0.  0.  0.  0.  0.  0.\n",
      "  0.  0.  0.  0.  0.  0.  0.  0.  0.  0.  0.  0.  0.  0.  0.  0.  0.  0.\n",
      "  0.  0.  0.  0.  0.  0.  0.  0.  0.  0.  0.  0.  0.  0.]\n",
      "p shape: \n",
      "[10 50]\n"
     ]
    }
   ],
   "source": [
    "try:\n",
    "    sess.close()\n",
    "except NameError:\n",
    "    pass\n",
    "config = tf.ConfigProto()\n",
    "config.gpu_options.allow_growth=True\n",
    "sess = tf.Session(config=config)\n",
    "\n",
    "# Load values on GPU\n",
    "init = tf.initialize_all_variables()\n",
    "sess.run(init) \n",
    "\n",
    "print \"w: \\n\", sess.run(w)\n",
    "print \"b: \\n\", sess.run(b)\n",
    "# print sess.run(p)  # Error. Cause we did not fed the `x`\n",
    "print \"p shape: \\n\", sess.run(tf.shape(p), feed_dict={x: np.zeros(shape=(10,784))})"
   ]
  },
  {
   "cell_type": "markdown",
   "metadata": {},
   "source": [
    "### Set of Layers\n",
    "To stack the layers, let us generalize a little bit the above."
   ]
  },
  {
   "cell_type": "code",
   "execution_count": 17,
   "metadata": {
    "collapsed": false
   },
   "outputs": [
    {
     "name": "stdout",
     "output_type": "stream",
     "text": [
      "num of layers:  3\n"
     ]
    }
   ],
   "source": [
    "layer_spec = [784, 100, 30, 10]\n",
    "n_layer = len(layer_spec)-1\n",
    "print \"num of layers: \", n_layer"
   ]
  },
  {
   "cell_type": "markdown",
   "metadata": {},
   "source": [
    "Note that the final layer of NN is logistic regression."
   ]
  },
  {
   "cell_type": "code",
   "execution_count": 18,
   "metadata": {
    "collapsed": false
   },
   "outputs": [],
   "source": [
    "tf.reset_default_graph()\n",
    "\n",
    "x = tf.placeholder(tf.float32, name='x')\n",
    "\n",
    "inp = x\n",
    "hs = []\n",
    "for l in xrange(n_layer):\n",
    "    with tf.name_scope('p{}'.format(l)):\n",
    "\n",
    "        initial_w = tf.truncated_normal(\n",
    "                shape=(layer_spec[l], layer_spec[l+1]),\n",
    "                mean=0.0, stddev=0.05)\n",
    "        w = tf.Variable(initial_w, name='w')\n",
    "        b = tf.Variable(tf.zeros((layer_spec[l+1],)), name='b')\n",
    "        p = tf.matmul(inp,w) + b\n",
    "\n",
    "    with tf.name_scope('h{}'.format(l)):\n",
    "\n",
    "        if l == n_layer-1: # Last layer\n",
    "            h = p\n",
    "        else: \n",
    "            h = tf.nn.relu(p)\n",
    "        hs.append(h)\n",
    "        inp = h"
   ]
  },
  {
   "cell_type": "code",
   "execution_count": 19,
   "metadata": {
    "collapsed": false
   },
   "outputs": [
    {
     "name": "stdout",
     "output_type": "stream",
     "text": [
      "h shape: \n",
      "[30 10]\n"
     ]
    }
   ],
   "source": [
    "try:\n",
    "    sess.close()\n",
    "except NameError:\n",
    "    pass\n",
    "config = tf.ConfigProto()\n",
    "config.gpu_options.allow_growth=True\n",
    "sess = tf.Session(config=config)\n",
    "\n",
    "# Load values on GPU\n",
    "init = tf.initialize_all_variables()\n",
    "sess.run(init) \n",
    "\n",
    "print \"h shape: \\n\", sess.run(tf.shape(hs[-1]), feed_dict={x: np.zeros(shape=(30,784))})"
   ]
  },
  {
   "cell_type": "markdown",
   "metadata": {},
   "source": [
    "### Loss\n",
    "We define the loss as the **negative log-likelihood**, or the **cross-entropy**.\n",
    "$$\\sum_i \\sum_k -\\mathcal{I}(t_i=k) \\log P(y_i=k|x_i;\\theta)$$"
   ]
  },
  {
   "cell_type": "code",
   "execution_count": 21,
   "metadata": {
    "collapsed": false
   },
   "outputs": [],
   "source": [
    "t = tf.placeholder('int32', name='t')\n",
    "xent = tf.nn.sparse_softmax_cross_entropy_with_logits(\n",
    "            hs[-1], t, name='xent')\n",
    "\n",
    "loss = tf.reduce_mean(xent, name='loss')\n",
    "train_step = tf.train.GradientDescentOptimizer(0.01).minimize(loss)\n",
    "\n",
    "#pred = tf.argmax(hs[-1], axis=1)\n",
    "pred = tf.reduce_max(hs[-1], reduction_indices=[1])\n",
    "\n",
    "\n",
    "correct = tf.nn.in_top_k(hs[-1], t, 1)\n",
    "acc = tf.reduce_mean(tf.cast(correct, tf.float32))\n"
   ]
  },
  {
   "cell_type": "markdown",
   "metadata": {},
   "source": [
    "### Load Data\n",
    "We use MNIST hand-written digit recognition data.\n",
    "* Total 70k images\n",
    "* 784 dimension (28x28 pixels, gray-scale) \n",
    "* Train, Test, Validation Sets are divided a priori.\n",
    "\n",
    "The objective is to classify each image as one of 10 classes (0-9)."
   ]
  },
  {
   "cell_type": "code",
   "execution_count": 24,
   "metadata": {
    "collapsed": false
   },
   "outputs": [
    {
     "name": "stdout",
     "output_type": "stream",
     "text": [
      "[u'test_t', u'test_x', u'train_t', u'train_x', u'valid_t', u'valid_x']\n",
      "(55000, 784)\n",
      "class:  7\n"
     ]
    },
    {
     "data": {
      "image/png": "[encoded data removed]",
      "text/plain": [
       "<matplotlib.figure.Figure at 0x7f08f9f87d50>"
      ]
     },
     "metadata": {},
     "output_type": "display_data"
    }
   ],
   "source": [
    "import h5py\n",
    "mnist = h5py.File('../mnist.hdf5','r')\n",
    "print mnist.keys()\n",
    "print mnist['train_x'].shape\n",
    "\n",
    "train_x = mnist['train_x'][()]\n",
    "train_t = mnist['train_t'][()]\n",
    "\n",
    "plt.imshow(train_x[0].reshape((28, 28)), \n",
    "               interpolation='nearest', cmap=plt.get_cmap('gray'))\n",
    "print \"class: \", train_t[0]"
   ]
  },
  {
   "cell_type": "markdown",
   "metadata": {},
   "source": [
    "### Stochastic Gradient Descent\n",
    "Loss:\n",
    "$$ \\mathcal{L}(X; \\theta) = \\frac{1}{n} \\sum_{i=1}^n \\mathcal{L(x_i; \\theta)}$$\n",
    "Gradient Descent:\n",
    "$$ \\theta^{t+1} = \\theta^{t} - \\eta \\frac{1}{n}\\sum_{i=1}^n \\frac{\\partial \\mathcal{L}(X_i;\\theta)}{\\partial \\theta} \\vert _{\\theta=\\theta^t} $$\n",
    "\n",
    "Stochastic Gradient Descent:\n",
    "\n",
    "---\n",
    "**for** $k=1$ **to** $n/m$:\n",
    "$$ \\theta^{k+1} = \\theta^{k} - \\eta \\frac{1}{k}\\sum_{i=1}^m \\frac{\\partial \\mathcal{L}(X_i;\\theta)}{\\partial \\theta} \\vert _{\\theta=\\theta^k} $$\n",
    "**end**\n",
    "\n",
    "$\\theta^{t+1}=\\theta^{k=n/m}$\n",
    "\n",
    "---\n",
    "**Principle**:\n",
    "\n",
    "*Instead of computing the exact gradient direction using the full batch data and update once, compute a **noisy gradient** direction using partial (mini-batch) data and update **multiple times**.*"
   ]
  },
  {
   "cell_type": "code",
   "execution_count": 26,
   "metadata": {
    "collapsed": false,
    "scrolled": true
   },
   "outputs": [
    {
     "name": "stdout",
     "output_type": "stream",
     "text": [
      "Epoch: 0, Loss: 2.29871177673, Acc: 0.173999994993\n",
      "Epoch: 1, Loss: 2.27780485153, Acc: 0.306909114122\n",
      "Epoch: 2, Loss: 2.21257591248, Acc: 0.360654532909\n",
      "Epoch: 3, Loss: 1.96100187302, Acc: 0.43969091773\n",
      "Epoch: 4, Loss: 1.49118208885, Acc: 0.592581868172\n",
      "Epoch: 5, Loss: 1.06805336475, Acc: 0.694236397743\n",
      "Epoch: 6, Loss: 0.800314426422, Acc: 0.770963609219\n",
      "Epoch: 7, Loss: 0.647313117981, Acc: 0.8166000247\n",
      "Epoch: 8, Loss: 0.563945233822, Acc: 0.8405636549\n",
      "Epoch: 9, Loss: 0.512508392334, Acc: 0.855327248573\n",
      "Epoch: 10, Loss: 0.476745158434, Acc: 0.865672707558\n",
      "Epoch: 11, Loss: 0.449486494064, Acc: 0.872727274895\n",
      "Epoch: 12, Loss: 0.427356809378, Acc: 0.878509104252\n",
      "Epoch: 13, Loss: 0.408805549145, Acc: 0.884290874004\n",
      "Epoch: 14, Loss: 0.392937600613, Acc: 0.888327300549\n",
      "Epoch: 15, Loss: 0.379130154848, Acc: 0.892618179321\n",
      "Epoch: 16, Loss: 0.366949230433, Acc: 0.895709037781\n",
      "Epoch: 17, Loss: 0.356020629406, Acc: 0.899272739887\n",
      "Epoch: 18, Loss: 0.346040070057, Acc: 0.902090907097\n",
      "Epoch: 19, Loss: 0.336832106113, Acc: 0.904509067535\n",
      "Epoch: 20, Loss: 0.328290909529, Acc: 0.906799972057\n",
      "Epoch: 21, Loss: 0.320320725441, Acc: 0.909581840038\n",
      "Epoch: 22, Loss: 0.312829434872, Acc: 0.911454558372\n",
      "Epoch: 23, Loss: 0.305770158768, Acc: 0.913399994373\n",
      "Epoch: 24, Loss: 0.299078583717, Acc: 0.915927290916\n",
      "Epoch: 25, Loss: 0.292691528797, Acc: 0.917709052563\n",
      "Epoch: 26, Loss: 0.286574691534, Acc: 0.919418156147\n",
      "Epoch: 27, Loss: 0.280699849129, Acc: 0.920909106731\n",
      "Epoch: 28, Loss: 0.275077134371, Acc: 0.92221814394\n",
      "Epoch: 29, Loss: 0.269695222378, Acc: 0.923745453358\n"
     ]
    },
    {
     "data": {
      "text/plain": [
       "<matplotlib.text.Text at 0x7f08f801db10>"
      ]
     },
     "execution_count": 26,
     "metadata": {},
     "output_type": "execute_result"
    },
    {
     "data": {
      "image/png": "[encoded data removed]",
      "text/plain": [
       "<matplotlib.figure.Figure at 0x7f09304bd950>"
      ]
     },
     "metadata": {},
     "output_type": "display_data"
    }
   ],
   "source": [
    "\n",
    "num_train = train_x.shape[0]\n",
    "mb_size = 200\n",
    "num_mbs = int(num_train / mb_size)\n",
    "\n",
    "loss_history = []\n",
    "for epoch in xrange(30):\n",
    "    loss_vals = []\n",
    "    acc_vals = []\n",
    "    for mb in xrange(num_mbs):\n",
    "        data_x = train_x[mb*mb_size : (mb+1)*mb_size] \n",
    "        data_t = train_t[mb*mb_size : (mb+1)*mb_size] \n",
    "\n",
    "        _, loss_val, acc_val = sess.run([train_step, loss, acc], \n",
    "                                            feed_dict={x: data_x, t: data_t})\n",
    "        loss_vals.append(loss_val)\n",
    "        acc_vals.append(acc_val)\n",
    "        \n",
    "    print \"Epoch: {}, Loss: {}, Acc: {}\".format(\n",
    "        epoch, np.mean(loss_vals), np.mean(acc_vals) )\n",
    "\n",
    "    loss_history.append(np.mean(loss_vals))\n",
    "\n",
    "plt.plot(loss_history)\n",
    "plt.xlabel('Epoch')\n",
    "plt.ylabel('Loss')"
   ]
  },
  {
   "cell_type": "code",
   "execution_count": 27,
   "metadata": {
    "collapsed": false
   },
   "outputs": [
    {
     "name": "stdout",
     "output_type": "stream",
     "text": [
      "test acc:  0.9274\n"
     ]
    }
   ],
   "source": [
    "test_x = mnist['test_x']\n",
    "test_t = mnist['test_t']\n",
    "test_mb_size = 200\n",
    "test_num_mbs = test_x.shape[0] / test_mb_size\n",
    "\n",
    "test_accs = []\n",
    "for mb in xrange(test_num_mbs):\n",
    "    test_acc = sess.run(acc, feed_dict={\n",
    "        x: test_x[mb*test_mb_size : (mb+1)*test_mb_size],\n",
    "        t: test_t[mb*test_mb_size : (mb+1)*test_mb_size]})\n",
    "    test_accs.append(test_acc)\n",
    "print \"test acc: \", np.mean(test_accs)"
   ]
  }
 ],
 "metadata": {
  "kernelspec": {
   "display_name": "Python 2",
   "language": "python",
   "name": "python2"
  },
  "language_info": {
   "codemirror_mode": {
    "name": "ipython",
    "version": 2
   },
   "file_extension": ".py",
   "mimetype": "text/x-python",
   "name": "python",
   "nbconvert_exporter": "python",
   "pygments_lexer": "ipython2",
   "version": "2.7.6"
  }
 },
 "nbformat": 4,
 "nbformat_minor": 2
}
