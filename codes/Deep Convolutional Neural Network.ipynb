{
 "cells": [
  {
   "cell_type": "code",
   "execution_count": 2,
   "metadata": {
    "collapsed": false
   },
   "outputs": [
    {
     "name": "stdout",
     "output_type": "stream",
     "text": [
      "Populating the interactive namespace from numpy and matplotlib\n"
     ]
    }
   ],
   "source": [
    "import tensorflow as tf\n",
    "import numpy as np\n",
    "import matplotlib.pyplot as plt\n",
    "%pylab inline"
   ]
  },
  {
   "cell_type": "markdown",
   "metadata": {},
   "source": [
    "# Deep Convolutional Neural Network (Deep ConvNet)\n",
    "\n",
    "\n",
    "![convnet](http://benanne.github.io/images/architecture.png)\n",
    "* It is useful if and only if your data has a **topology** and has **local patterns**.\n",
    "* Same as the standard neural network except that...\n",
    "    * network **connections are sparse**.\n",
    "    * weight parameters are **shared** among all the locations. \n",
    "\n",
    "## Convolution Layer\n",
    "![conv](http://ufldl.stanford.edu/tutorial/images/Convolution_schematic.gif)\n",
    "* Convolution layer consists of **convolution operation** and **non-linear activation**.\n",
    "* Why convolution?\n",
    "* **Convolution is a linear operation**\n",
    "e.g., 1-D Convolution with single kernel:\n",
    "$$h = \\sigma (x \\tilde{w}+b)$$\n",
    "where $w$ is a kernel $w=(w_1,w_2,w_3)$ and $\\tilde{w}$ is the **toeplitz matrix** build from $w$: $\\tilde{w} = \\pmatrix{\n",
    "w_1 & 0   & 0   \\\\ \n",
    "w_2 & w_1 & 0   \\\\\n",
    "w_3 & w_2 & w_1 \\\\\n",
    "0   & w_3 & w_2 \\\\\n",
    "0   & 0   & w_3}$\n",
    "\n",
    "## Pooling Layer\n",
    "![pool](http://ufldl.stanford.edu/tutorial/images/Pooling_schematic.gif)\n",
    "* Pooling is an operation that **summarizes** neighboring nodes\n",
    "* By using pooling, **spatial resolution is lost** but the representation gets more **robust to the translation-noise**.\n",
    "* Also you get a representation with **reduced dimensionality**.\n",
    "* There are many pooling operations but **max-pooling** is used in most cases.\n",
    "\n",
    "## Fully-Connected Layer\n",
    "* If the spatial dimensions are moderately reduced, there is no reason to do convolution or pooling, so we use a fully-connected layer.\n",
    "* It is the same as the layers in standard neural network.\n"
   ]
  },
  {
   "cell_type": "markdown",
   "metadata": {
    "collapsed": false
   },
   "source": [
    "---\n",
    "## Implementation\n",
    "\n",
    "Now let's implement ConvNet in `tensorflow`!\n",
    "\n",
    "We use the structure:\n",
    "\n",
    "1. **CONV**: kernel(3x3x1x10) maps (Nx28x28x1) to (Nx26x26x10)\n",
    "1. **CONV**: kernel(3x3x10x10) maps (Nx26x26x10) to (Nx24x24x10)\n",
    "1. **POOL**: max-pool(2x2) maps (Nx24x24x10) to (Nx12x12x10)\n",
    "1. **CONV**: kernel(3x3x10x20) maps (Nx12x12x10) to (Nx10x10x20)\n",
    "1. **POOL**: max-pool(2x2) maps (Nx10x10x20) to (Nx5x5x20)\n",
    "1. **CONV**: kernel(3x3x20x20) maps (Nx5x5x20) to (Nx3x3x20)\n",
    "1. **FLAT**: flattening maps (Nx3x3x20) to (Nx180)\n",
    "1. **FULL**: weight(180x40) maps (Nx180) to (Nx40)\n",
    "1. **LogR**: weight(40x10) maps (Nx40) to (Nx10)\n",
    "\n",
    "Note that:\n",
    "* kernel shape:  (size_h, size_w, n_channel, n_kernel)\n",
    "* feature shape: (n_data, size_h, size_w, n_channel)\n",
    "\n",
    "\n",
    "### ConvLayer"
   ]
  },
  {
   "cell_type": "code",
   "execution_count": 4,
   "metadata": {
    "collapsed": false
   },
   "outputs": [],
   "source": [
    "layer_spec = [\n",
    "    {\"type\": \"conv\", \"shape\": (3,3,1,10)},\n",
    "    {\"type\": \"conv\", \"shape\": (3,3,10,10)},\n",
    "    {\"type\": \"pool\", \"shape\": (2,2)},\n",
    "    {\"type\": \"conv\", \"shape\": (3,3,10,20)},\n",
    "    {\"type\": \"pool\", \"shape\": (2,2)},\n",
    "    {\"type\": \"conv\", \"shape\": (3,3,20,20)},\n",
    "    {\"type\": \"flat\", \"shape\": 180},\n",
    "    {\"type\": \"full\", \"shape\": (180,40)},\n",
    "    {\"type\": \"logr\", \"shape\": (40,10)}\n",
    "]\n",
    "\n",
    "\n",
    "tf.reset_default_graph()\n",
    "x = tf.placeholder('float32', shape=[None,28,28,1], name='x')\n",
    "inp = x\n",
    "for l,layer in enumerate(layer_spec):\n",
    "    ltype = layer[\"type\"]\n",
    "    lshape = layer[\"shape\"]\n",
    "    \n",
    "    if ltype == \"conv\":\n",
    "        with tf.name_scope('conv{}'.format(l)):\n",
    "            k = tf.Variable(\n",
    "                tf.truncated_normal(shape=lshape, mean=0.0, stddev=0.05),\n",
    "                name=\"kernel\"\n",
    "            )\n",
    "            b = tf.Variable(tf.zeros((lshape[-1],)), name=\"bias\")\n",
    "            convout = tf.nn.conv2d(inp,k,strides=(1,1,1,1),\n",
    "                                   padding=\"VALID\")\n",
    "            p = tf.nn.bias_add(convout, b)\n",
    "            h = tf.nn.relu(p)\n",
    "            inp = h\n",
    "            \n",
    "    elif ltype == \"pool\":\n",
    "        with tf.name_scope('pool{}'.format(l)):\n",
    "            out = tf.nn.max_pool(inp, ksize=(1,)+lshape+(1,), \n",
    "                                strides=(1,)+lshape+(1,), \n",
    "                                padding=\"VALID\")\n",
    "            inp = out\n",
    "            \n",
    "    elif ltype == \"flat\":\n",
    "        with tf.name_scope('flat{}'.format(l)):\n",
    "            out = tf.reshape(inp, (-1,lshape))\n",
    "            inp = out\n",
    "    \n",
    "    elif ltype == \"full\":\n",
    "        with tf.name_scope('full{}'.format(l)):\n",
    "            w = tf.Variable(\n",
    "                tf.truncated_normal(\n",
    "                    shape=lshape,\n",
    "                    mean=0.0, stddev=0.05),\n",
    "                name='weight'\n",
    "            )\n",
    "            b = tf.Variable(tf.zeros(lshape[-1],), name=\"bias\")\n",
    "            p = tf.nn.bias_add(tf.matmul(inp, w), b)\n",
    "            h = tf.nn.relu(p)\n",
    "            inp = h\n",
    "    elif ltype == \"logr\":\n",
    "        with tf.name_scope('logr{}'.format(l)):\n",
    "            assert l == len(layer_spec)-1\n",
    "            w = tf.Variable(\n",
    "                tf.truncated_normal(\n",
    "                    shape=lshape,\n",
    "                    mean=0.0, stddev=0.05),\n",
    "                name='weight'\n",
    "            )\n",
    "            b = tf.Variable(tf.zeros(lshape[-1],), name=\"bias\")\n",
    "            p = tf.nn.bias_add(tf.matmul(inp, w), b)\n",
    "            final_out = p\n",
    "\n",
    "            \n",
    "            \n",
    "t = tf.placeholder('int32', name='t')\n",
    "xent = tf.nn.sparse_softmax_cross_entropy_with_logits(\n",
    "            final_out, t, name='xent')\n",
    "\n",
    "loss = tf.reduce_mean(xent, name='loss')\n",
    "train_step = tf.train.GradientDescentOptimizer(0.05).minimize(loss)\n",
    "\n",
    "#pred = tf.argmax(final_out, axis=1)\n",
    "pred = tf.reduce_max(final_out, reduction_indices=[1])\n",
    "correct = tf.nn.in_top_k(final_out, t, 1)\n",
    "acc = tf.reduce_mean(tf.cast(correct, tf.float32))\n"
   ]
  },
  {
   "cell_type": "code",
   "execution_count": 5,
   "metadata": {
    "collapsed": false
   },
   "outputs": [],
   "source": [
    "try:\n",
    "    sess.close()\n",
    "except NameError:\n",
    "    pass\n",
    "config = tf.ConfigProto()\n",
    "config.gpu_options.allow_growth=True\n",
    "sess = tf.Session(config=config)\n",
    "\n",
    "# Load values on GPU\n",
    "init = tf.initialize_all_variables()\n",
    "sess.run(init) \n"
   ]
  },
  {
   "cell_type": "code",
   "execution_count": 6,
   "metadata": {
    "collapsed": false
   },
   "outputs": [
    {
     "name": "stdout",
     "output_type": "stream",
     "text": [
      "[u'test_t', u'test_x', u'train_t', u'train_x', u'valid_t', u'valid_x']\n",
      "(55000, 784)\n",
      "class:  7\n"
     ]
    },
    {
     "data": {
      "image/png": "[encoded data removed]",
      "text/plain": [
       "<matplotlib.figure.Figure at 0x7f5911959c50>"
      ]
     },
     "metadata": {},
     "output_type": "display_data"
    }
   ],
   "source": [
    "import h5py\n",
    "mnist = h5py.File('../mnist.hdf5','r')\n",
    "print mnist.keys()\n",
    "print mnist['train_x'].shape\n",
    "\n",
    "train_x = mnist['train_x'][()]\n",
    "train_t = mnist['train_t'][()]\n",
    "\n",
    "plt.imshow(train_x[0].reshape((28, 28)), \n",
    "               interpolation='nearest', cmap=plt.get_cmap('gray'))\n",
    "print \"class: \", train_t[0]"
   ]
  },
  {
   "cell_type": "code",
   "execution_count": 8,
   "metadata": {
    "collapsed": false
   },
   "outputs": [
    {
     "name": "stdout",
     "output_type": "stream",
     "text": [
      "Epoch: 0, Loss: 2.30163168907, Acc: 0.111945450306\n",
      "Epoch: 1, Loss: 2.30107355118, Acc: 0.112345457077\n",
      "Epoch: 2, Loss: 2.30078005791, Acc: 0.112345457077\n",
      "Epoch: 3, Loss: 2.30003643036, Acc: 0.112345457077\n",
      "Epoch: 4, Loss: 2.29410076141, Acc: 0.12056363374\n",
      "Epoch: 5, Loss: 0.987143576145, Acc: 0.687909126282\n",
      "Epoch: 6, Loss: 0.237517669797, Acc: 0.925909101963\n",
      "Epoch: 7, Loss: 0.153402969241, Acc: 0.951127290726\n",
      "Epoch: 8, Loss: 0.116064816713, Acc: 0.963127195835\n",
      "Epoch: 9, Loss: 0.0958796963096, Acc: 0.969327270985\n",
      "Epoch: 10, Loss: 0.0835333317518, Acc: 0.973418176174\n",
      "Epoch: 11, Loss: 0.0745419561863, Acc: 0.976436316967\n"
     ]
    },
    {
     "ename": "KeyboardInterrupt",
     "evalue": "",
     "output_type": "error",
     "traceback": [
      "\u001b[1;31m---------------------------------------------------------------------------\u001b[0m",
      "\u001b[1;31mKeyboardInterrupt\u001b[0m                         Traceback (most recent call last)",
      "\u001b[1;32m<ipython-input-8-a6f85bf28dc5>\u001b[0m in \u001b[0;36m<module>\u001b[1;34m()\u001b[0m\n\u001b[0;32m     15\u001b[0m \u001b[1;33m\u001b[0m\u001b[0m\n\u001b[0;32m     16\u001b[0m         _, loss_val, acc_val = sess.run([train_step, loss, acc], \n\u001b[1;32m---> 17\u001b[1;33m                                             feed_dict={x: data_x, t: data_t})\n\u001b[0m\u001b[0;32m     18\u001b[0m         \u001b[0mloss_vals\u001b[0m\u001b[1;33m.\u001b[0m\u001b[0mappend\u001b[0m\u001b[1;33m(\u001b[0m\u001b[0mloss_val\u001b[0m\u001b[1;33m)\u001b[0m\u001b[1;33m\u001b[0m\u001b[0m\n\u001b[0;32m     19\u001b[0m         \u001b[0macc_vals\u001b[0m\u001b[1;33m.\u001b[0m\u001b[0mappend\u001b[0m\u001b[1;33m(\u001b[0m\u001b[0macc_val\u001b[0m\u001b[1;33m)\u001b[0m\u001b[1;33m\u001b[0m\u001b[0m\n",
      "\u001b[1;32m/usr/local/lib/python2.7/dist-packages/tensorflow/python/client/session.pyc\u001b[0m in \u001b[0;36mrun\u001b[1;34m(self, fetches, feed_dict, options, run_metadata)\u001b[0m\n\u001b[0;32m    380\u001b[0m     \u001b[1;32mtry\u001b[0m\u001b[1;33m:\u001b[0m\u001b[1;33m\u001b[0m\u001b[0m\n\u001b[0;32m    381\u001b[0m       result = self._run(None, fetches, feed_dict, options_ptr,\n\u001b[1;32m--> 382\u001b[1;33m                          run_metadata_ptr)\n\u001b[0m\u001b[0;32m    383\u001b[0m       \u001b[1;32mif\u001b[0m \u001b[0mrun_metadata\u001b[0m\u001b[1;33m:\u001b[0m\u001b[1;33m\u001b[0m\u001b[0m\n\u001b[0;32m    384\u001b[0m         \u001b[0mproto_data\u001b[0m \u001b[1;33m=\u001b[0m \u001b[0mtf_session\u001b[0m\u001b[1;33m.\u001b[0m\u001b[0mTF_GetBuffer\u001b[0m\u001b[1;33m(\u001b[0m\u001b[0mrun_metadata_ptr\u001b[0m\u001b[1;33m)\u001b[0m\u001b[1;33m\u001b[0m\u001b[0m\n",
      "\u001b[1;32m/usr/local/lib/python2.7/dist-packages/tensorflow/python/client/session.pyc\u001b[0m in \u001b[0;36m_run\u001b[1;34m(self, handle, fetches, feed_dict, options, run_metadata)\u001b[0m\n\u001b[0;32m    653\u001b[0m     \u001b[0mmovers\u001b[0m \u001b[1;33m=\u001b[0m \u001b[0mself\u001b[0m\u001b[1;33m.\u001b[0m\u001b[0m_update_with_movers\u001b[0m\u001b[1;33m(\u001b[0m\u001b[0mfeed_dict_string\u001b[0m\u001b[1;33m,\u001b[0m \u001b[0mfeed_map\u001b[0m\u001b[1;33m)\u001b[0m\u001b[1;33m\u001b[0m\u001b[0m\n\u001b[0;32m    654\u001b[0m     results = self._do_run(handle, target_list, unique_fetches,\n\u001b[1;32m--> 655\u001b[1;33m                            feed_dict_string, options, run_metadata)\n\u001b[0m\u001b[0;32m    656\u001b[0m \u001b[1;33m\u001b[0m\u001b[0m\n\u001b[0;32m    657\u001b[0m     \u001b[1;31m# User may have fetched the same tensor multiple times, but we\u001b[0m\u001b[1;33m\u001b[0m\u001b[1;33m\u001b[0m\u001b[0m\n",
      "\u001b[1;32m/usr/local/lib/python2.7/dist-packages/tensorflow/python/client/session.pyc\u001b[0m in \u001b[0;36m_do_run\u001b[1;34m(self, handle, target_list, fetch_list, feed_dict, options, run_metadata)\u001b[0m\n\u001b[0;32m    721\u001b[0m     \u001b[1;32mif\u001b[0m \u001b[0mhandle\u001b[0m \u001b[1;32mis\u001b[0m \u001b[0mNone\u001b[0m\u001b[1;33m:\u001b[0m\u001b[1;33m\u001b[0m\u001b[0m\n\u001b[0;32m    722\u001b[0m       return self._do_call(_run_fn, self._session, feed_dict, fetch_list,\n\u001b[1;32m--> 723\u001b[1;33m                            target_list, options, run_metadata)\n\u001b[0m\u001b[0;32m    724\u001b[0m     \u001b[1;32melse\u001b[0m\u001b[1;33m:\u001b[0m\u001b[1;33m\u001b[0m\u001b[0m\n\u001b[0;32m    725\u001b[0m       return self._do_call(_prun_fn, self._session, handle, feed_dict,\n",
      "\u001b[1;32m/usr/local/lib/python2.7/dist-packages/tensorflow/python/client/session.pyc\u001b[0m in \u001b[0;36m_do_call\u001b[1;34m(self, fn, *args)\u001b[0m\n\u001b[0;32m    728\u001b[0m   \u001b[1;32mdef\u001b[0m \u001b[0m_do_call\u001b[0m\u001b[1;33m(\u001b[0m\u001b[0mself\u001b[0m\u001b[1;33m,\u001b[0m \u001b[0mfn\u001b[0m\u001b[1;33m,\u001b[0m \u001b[1;33m*\u001b[0m\u001b[0margs\u001b[0m\u001b[1;33m)\u001b[0m\u001b[1;33m:\u001b[0m\u001b[1;33m\u001b[0m\u001b[0m\n\u001b[0;32m    729\u001b[0m     \u001b[1;32mtry\u001b[0m\u001b[1;33m:\u001b[0m\u001b[1;33m\u001b[0m\u001b[0m\n\u001b[1;32m--> 730\u001b[1;33m       \u001b[1;32mreturn\u001b[0m \u001b[0mfn\u001b[0m\u001b[1;33m(\u001b[0m\u001b[1;33m*\u001b[0m\u001b[0margs\u001b[0m\u001b[1;33m)\u001b[0m\u001b[1;33m\u001b[0m\u001b[0m\n\u001b[0m\u001b[0;32m    731\u001b[0m     \u001b[1;32mexcept\u001b[0m \u001b[0merrors\u001b[0m\u001b[1;33m.\u001b[0m\u001b[0mOpError\u001b[0m \u001b[1;32mas\u001b[0m \u001b[0me\u001b[0m\u001b[1;33m:\u001b[0m\u001b[1;33m\u001b[0m\u001b[0m\n\u001b[0;32m    732\u001b[0m       \u001b[0mmessage\u001b[0m \u001b[1;33m=\u001b[0m \u001b[0mcompat\u001b[0m\u001b[1;33m.\u001b[0m\u001b[0mas_text\u001b[0m\u001b[1;33m(\u001b[0m\u001b[0me\u001b[0m\u001b[1;33m.\u001b[0m\u001b[0mmessage\u001b[0m\u001b[1;33m)\u001b[0m\u001b[1;33m\u001b[0m\u001b[0m\n",
      "\u001b[1;32m/usr/local/lib/python2.7/dist-packages/tensorflow/python/client/session.pyc\u001b[0m in \u001b[0;36m_run_fn\u001b[1;34m(session, feed_dict, fetch_list, target_list, options, run_metadata)\u001b[0m\n\u001b[0;32m    710\u001b[0m         return tf_session.TF_Run(session, options,\n\u001b[0;32m    711\u001b[0m                                  \u001b[0mfeed_dict\u001b[0m\u001b[1;33m,\u001b[0m \u001b[0mfetch_list\u001b[0m\u001b[1;33m,\u001b[0m \u001b[0mtarget_list\u001b[0m\u001b[1;33m,\u001b[0m\u001b[1;33m\u001b[0m\u001b[0m\n\u001b[1;32m--> 712\u001b[1;33m                                  status, run_metadata)\n\u001b[0m\u001b[0;32m    713\u001b[0m \u001b[1;33m\u001b[0m\u001b[0m\n\u001b[0;32m    714\u001b[0m     \u001b[1;32mdef\u001b[0m \u001b[0m_prun_fn\u001b[0m\u001b[1;33m(\u001b[0m\u001b[0msession\u001b[0m\u001b[1;33m,\u001b[0m \u001b[0mhandle\u001b[0m\u001b[1;33m,\u001b[0m \u001b[0mfeed_dict\u001b[0m\u001b[1;33m,\u001b[0m \u001b[0mfetch_list\u001b[0m\u001b[1;33m)\u001b[0m\u001b[1;33m:\u001b[0m\u001b[1;33m\u001b[0m\u001b[0m\n",
      "\u001b[1;31mKeyboardInterrupt\u001b[0m: "
     ]
    }
   ],
   "source": [
    "\n",
    "num_train = train_x.shape[0]\n",
    "mb_size = 200\n",
    "num_mbs = int(num_train / mb_size)\n",
    "\n",
    "loss_history = []\n",
    "for epoch in xrange(30):\n",
    "    loss_vals = []\n",
    "    acc_vals = []\n",
    "    for mb in xrange(num_mbs):\n",
    "        data_x = np.reshape(\n",
    "                train_x[mb*mb_size : (mb+1)*mb_size],\n",
    "                (-1,28,28,1) )\n",
    "        data_t = train_t[mb*mb_size : (mb+1)*mb_size] \n",
    "\n",
    "        _, loss_val, acc_val = sess.run([train_step, loss, acc], \n",
    "                                            feed_dict={x: data_x, t: data_t})\n",
    "        loss_vals.append(loss_val)\n",
    "        acc_vals.append(acc_val)\n",
    "        \n",
    "    print \"Epoch: {}, Loss: {}, Acc: {}\".format(\n",
    "        epoch, np.mean(loss_vals), np.mean(acc_vals) )\n",
    "\n",
    "    loss_history.append(np.mean(loss_vals))\n",
    "\n",
    "plt.plot(loss_history)\n",
    "plt.xlabel('Epoch')\n",
    "plt.ylabel('Loss')"
   ]
  },
  {
   "cell_type": "code",
   "execution_count": 9,
   "metadata": {
    "collapsed": false
   },
   "outputs": [
    {
     "name": "stdout",
     "output_type": "stream",
     "text": [
      "test acc:  0.9789\n"
     ]
    }
   ],
   "source": [
    "test_x = mnist['test_x']\n",
    "test_t = mnist['test_t']\n",
    "test_mb_size = 200\n",
    "test_num_mbs = test_x.shape[0] / test_mb_size\n",
    "\n",
    "test_accs = []\n",
    "for mb in xrange(test_num_mbs):\n",
    "    test_acc = sess.run(acc, feed_dict={\n",
    "        x: np.reshape(\n",
    "            test_x[mb*test_mb_size : (mb+1)*test_mb_size],\n",
    "            (-1,28,28,1) ),\n",
    "        t: test_t[mb*test_mb_size : (mb+1)*test_mb_size]})\n",
    "    test_accs.append(test_acc)\n",
    "print \"test acc: \", np.mean(test_accs)"
   ]
  },
  {
   "cell_type": "code",
   "execution_count": null,
   "metadata": {
    "collapsed": true
   },
   "outputs": [],
   "source": []
  }
 ],
 "metadata": {
  "kernelspec": {
   "display_name": "Python 2",
   "language": "python",
   "name": "python2"
  },
  "language_info": {
   "codemirror_mode": {
    "name": "ipython",
    "version": 2
   },
   "file_extension": ".py",
   "mimetype": "text/x-python",
   "name": "python",
   "nbconvert_exporter": "python",
   "pygments_lexer": "ipython2",
   "version": "2.7.6"
  }
 },
 "nbformat": 4,
 "nbformat_minor": 2
}
